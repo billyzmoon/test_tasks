{
 "cells": [
  {
   "cell_type": "markdown",
   "id": "24b223e5-478b-4ffc-9c32-fa53599749b6",
   "metadata": {},
   "source": [
    "Нулевая гипотеза (H0): Изменение положения и цвета кнопки НЕ приведет к увеличению конверсии.  \n",
    "\n",
    "Альтернативная гипотеза (H1): Изменение положения и цвета кнопки приведет к увеличению конверсии. Пользователи группы В будут чаще открывать контакты."
   ]
  },
  {
   "cell_type": "code",
   "execution_count": 2,
   "id": "6f3b396a-b626-4770-a938-540f79c580e3",
   "metadata": {
    "tags": []
   },
   "outputs": [],
   "source": [
    "import numpy as np\n",
    "import pandas as pd\n",
    "import scipy.stats as stats\n",
    "import statsmodels.stats.api as sms\n",
    "import seaborn as sns\n",
    "from math import ceil\n",
    "from statsmodels.stats.proportion import proportions_ztest, proportion_confint"
   ]
  },
  {
   "cell_type": "markdown",
   "id": "ca3d5e5e-ad39-4c06-9e36-443eec10d444",
   "metadata": {},
   "source": [
    "Найдем базовую конверсию на основании данных с 1 ноября по 9 ноября"
   ]
  },
  {
   "cell_type": "code",
   "execution_count": 4,
   "id": "2c23b373-fee4-4a27-a051-4f196655d351",
   "metadata": {
    "tags": []
   },
   "outputs": [],
   "source": [
    "df = pd.read_csv('exp1.csv') #получим датафрейм из файла"
   ]
  },
  {
   "cell_type": "code",
   "execution_count": 5,
   "id": "43179baa-3b95-4c76-b061-8aa697ad0295",
   "metadata": {
    "tags": []
   },
   "outputs": [
    {
     "data": {
      "text/html": [
       "<div>\n",
       "<style scoped>\n",
       "    .dataframe tbody tr th:only-of-type {\n",
       "        vertical-align: middle;\n",
       "    }\n",
       "\n",
       "    .dataframe tbody tr th {\n",
       "        vertical-align: top;\n",
       "    }\n",
       "\n",
       "    .dataframe thead th {\n",
       "        text-align: right;\n",
       "    }\n",
       "</style>\n",
       "<table border=\"1\" class=\"dataframe\">\n",
       "  <thead>\n",
       "    <tr style=\"text-align: right;\">\n",
       "      <th></th>\n",
       "      <th>user_id</th>\n",
       "      <th>date</th>\n",
       "      <th>url</th>\n",
       "    </tr>\n",
       "  </thead>\n",
       "  <tbody>\n",
       "    <tr>\n",
       "      <th>0</th>\n",
       "      <td>d48e135cA</td>\n",
       "      <td>2017-11-01 00:00:00</td>\n",
       "      <td>/dummy.txt?action=viewbull_open_photo_fotorama</td>\n",
       "    </tr>\n",
       "    <tr>\n",
       "      <th>1</th>\n",
       "      <td>7885b94eB</td>\n",
       "      <td>2017-11-01 00:00:00</td>\n",
       "      <td>/city/directory/57689556.html</td>\n",
       "    </tr>\n",
       "    <tr>\n",
       "      <th>2</th>\n",
       "      <td>9382d05eB</td>\n",
       "      <td>2017-11-01 00:00:01</td>\n",
       "      <td>/directory/?_lightweight=1&amp;_origuterm=abond-fr...</td>\n",
       "    </tr>\n",
       "    <tr>\n",
       "      <th>3</th>\n",
       "      <td>feaaa515A</td>\n",
       "      <td>2017-11-01 00:00:01</td>\n",
       "      <td>/dummy.txt?action=mobileapp_native_banner_show</td>\n",
       "    </tr>\n",
       "    <tr>\n",
       "      <th>4</th>\n",
       "      <td>feaaa515A</td>\n",
       "      <td>2017-11-01 00:00:01</td>\n",
       "      <td>/dummy.txt?action=mobileVersion</td>\n",
       "    </tr>\n",
       "    <tr>\n",
       "      <th>...</th>\n",
       "      <td>...</td>\n",
       "      <td>...</td>\n",
       "      <td>...</td>\n",
       "    </tr>\n",
       "    <tr>\n",
       "      <th>1206141</th>\n",
       "      <td>4e9a98b4A</td>\n",
       "      <td>2017-11-09 23:59:56</td>\n",
       "      <td>/dummy.txt?action=viewdir_show_plate&amp;keyName=d...</td>\n",
       "    </tr>\n",
       "    <tr>\n",
       "      <th>1206142</th>\n",
       "      <td>73163a57B</td>\n",
       "      <td>2017-11-09 23:59:56</td>\n",
       "      <td>/dummy.txt?action=page_clicked&amp;keyName=8</td>\n",
       "    </tr>\n",
       "    <tr>\n",
       "      <th>1206143</th>\n",
       "      <td>3e9db1dfA</td>\n",
       "      <td>2017-11-09 23:59:58</td>\n",
       "      <td>/dummy.txt?action=adding__v2__field_changed&amp;ke...</td>\n",
       "    </tr>\n",
       "    <tr>\n",
       "      <th>1206144</th>\n",
       "      <td>4e9a98b4A</td>\n",
       "      <td>2017-11-09 23:59:58</td>\n",
       "      <td>/dummy.txt?action=viewdir_show_plate&amp;keyName=f...</td>\n",
       "    </tr>\n",
       "    <tr>\n",
       "      <th>1206145</th>\n",
       "      <td>4e9a98b4A</td>\n",
       "      <td>2017-11-09 23:59:59</td>\n",
       "      <td>/dummy.txt?action=page_clicked&amp;keyName=2</td>\n",
       "    </tr>\n",
       "  </tbody>\n",
       "</table>\n",
       "<p>1206146 rows × 3 columns</p>\n",
       "</div>"
      ],
      "text/plain": [
       "           user_id                 date  \\\n",
       "0        d48e135cA  2017-11-01 00:00:00   \n",
       "1        7885b94eB  2017-11-01 00:00:00   \n",
       "2        9382d05eB  2017-11-01 00:00:01   \n",
       "3        feaaa515A  2017-11-01 00:00:01   \n",
       "4        feaaa515A  2017-11-01 00:00:01   \n",
       "...            ...                  ...   \n",
       "1206141  4e9a98b4A  2017-11-09 23:59:56   \n",
       "1206142  73163a57B  2017-11-09 23:59:56   \n",
       "1206143  3e9db1dfA  2017-11-09 23:59:58   \n",
       "1206144  4e9a98b4A  2017-11-09 23:59:58   \n",
       "1206145  4e9a98b4A  2017-11-09 23:59:59   \n",
       "\n",
       "                                                       url  \n",
       "0           /dummy.txt?action=viewbull_open_photo_fotorama  \n",
       "1                            /city/directory/57689556.html  \n",
       "2        /directory/?_lightweight=1&_origuterm=abond-fr...  \n",
       "3           /dummy.txt?action=mobileapp_native_banner_show  \n",
       "4                          /dummy.txt?action=mobileVersion  \n",
       "...                                                    ...  \n",
       "1206141  /dummy.txt?action=viewdir_show_plate&keyName=d...  \n",
       "1206142           /dummy.txt?action=page_clicked&keyName=8  \n",
       "1206143  /dummy.txt?action=adding__v2__field_changed&ke...  \n",
       "1206144  /dummy.txt?action=viewdir_show_plate&keyName=f...  \n",
       "1206145           /dummy.txt?action=page_clicked&keyName=2  \n",
       "\n",
       "[1206146 rows x 3 columns]"
      ]
     },
     "execution_count": 5,
     "metadata": {},
     "output_type": "execute_result"
    }
   ],
   "source": [
    "bc_df = df.query(\"date < '2017-11-10'\") #фильтруем по дате\n",
    "bc_df"
   ]
  },
  {
   "cell_type": "markdown",
   "id": "f6031031-e892-4b56-9af7-f70fcd7ae874",
   "metadata": {
    "tags": []
   },
   "source": [
    "Отберем только те посещения, где пользователи открывали карточку с 1 по 9 ноября"
   ]
  },
  {
   "cell_type": "code",
   "execution_count": 7,
   "id": "b4df8174-aa00-451c-bdc9-91b3d9f52d73",
   "metadata": {
    "tags": []
   },
   "outputs": [
    {
     "name": "stdout",
     "output_type": "stream",
     "text": [
      "           user_id                 date                            url\n",
      "1        7885b94eB  2017-11-01 00:00:00  /city/directory/57689556.html\n",
      "29       7885b94eB  2017-11-01 00:00:27  /city/directory/58425632.html\n",
      "43       9382d05eB  2017-11-01 00:00:37  /city/directory/43376524.html\n",
      "65       5ec519baA  2017-11-01 00:00:53  /city/directory/53543073.html\n",
      "76       ebdb2e66B  2017-11-01 00:01:02  /city/directory/47388240.html\n",
      "...            ...                  ...                            ...\n",
      "1206075  4e9a98b4A  2017-11-09 23:58:59  /city/directory/53656353.html\n",
      "1206079  e1dd36f4B  2017-11-09 23:59:02  /city/directory/58426566.html\n",
      "1206106  5e841aadA  2017-11-09 23:59:26  /city/directory/58034184.html\n",
      "1206124  9431afd9B  2017-11-09 23:59:46  /city/directory/51741546.html\n",
      "1206132  8c897633A  2017-11-09 23:59:50  /city/directory/50246077.html\n",
      "\n",
      "[122742 rows x 3 columns]\n"
     ]
    }
   ],
   "source": [
    "view_card = bc_df[bc_df['url'].str.contains(r\"/city/directory/\\d+\\.html\")]\n",
    "print(view_card)"
   ]
  },
  {
   "cell_type": "markdown",
   "id": "e3a4b941-58d6-4d61-89d4-487829f805d4",
   "metadata": {},
   "source": [
    "Количество \n",
    "пользователей, посетивших карточку с 1 по 9 ноября"
   ]
  },
  {
   "cell_type": "code",
   "execution_count": 9,
   "id": "ea1cbeef-3481-4834-a525-008a919e28d1",
   "metadata": {
    "tags": []
   },
   "outputs": [
    {
     "name": "stdout",
     "output_type": "stream",
     "text": [
      "122742\n"
     ]
    }
   ],
   "source": [
    "# users_view_card = view_card['user_id'].nunique()\n",
    "users_view_card = len(view_card['user_id'])\n",
    "print(users_view_card)"
   ]
  },
  {
   "cell_type": "markdown",
   "id": "c4c7c6b7-06cd-41e7-b30a-6e89e79de533",
   "metadata": {},
   "source": [
    "Количество пользователей, посетивших контакт с 1 по 9 ноября"
   ]
  },
  {
   "cell_type": "code",
   "execution_count": 11,
   "id": "04c9ddf0-eebd-44e7-852e-13c6fd90939c",
   "metadata": {
    "tags": []
   },
   "outputs": [],
   "source": [
    "view_contact = bc_df[bc_df['url'].str.contains(r\"/good/\\d+/owner_info|/bulletin/\\d+/ajax_contact\")]"
   ]
  },
  {
   "cell_type": "code",
   "execution_count": 12,
   "id": "b117e2f6-ee7c-427c-911c-95e229b3557a",
   "metadata": {
    "tags": []
   },
   "outputs": [
    {
     "name": "stdout",
     "output_type": "stream",
     "text": [
      "5223\n"
     ]
    }
   ],
   "source": [
    "# users_view_contact = view_contact['user_id'].nunique()\n",
    "users_view_contact = len(view_contact['user_id'])\n",
    "print(users_view_contact)"
   ]
  },
  {
   "cell_type": "code",
   "execution_count": 13,
   "id": "cbcd702f-44cd-438f-be3a-8723522ebf63",
   "metadata": {
    "tags": []
   },
   "outputs": [
    {
     "name": "stdout",
     "output_type": "stream",
     "text": [
      "122742 пользователей видели карточки, 5223 открыли контакты, конверсия: 4.26%\n"
     ]
    }
   ],
   "source": [
    "conversion = users_view_contact / users_view_card\n",
    "\n",
    "print(f'{users_view_card} пользователей видели карточки, {users_view_contact} открыли контакты, конверсия: {conversion:.2%}')"
   ]
  },
  {
   "cell_type": "markdown",
   "id": "8fa70fe8-6e09-45b6-894d-0b6eac608735",
   "metadata": {},
   "source": [
    "На основании полученных данных будем опираться на следующие значения:\n",
    "\n",
    "Базовый коэффициент конверсии - 4.26%\n",
    "\n",
    "Минимальный обнаруживаемый эффект - 1%\n",
    "\n",
    "Статистическая значимость - 5%"
   ]
  },
  {
   "cell_type": "markdown",
   "id": "677416bb-27e2-4875-9e28-2079eecbe6ee",
   "metadata": {},
   "source": [
    "Проведем А/А тестирование"
   ]
  },
  {
   "cell_type": "code",
   "execution_count": 16,
   "id": "22f4e3e8-f4b7-4672-bb5d-60699ddb978e",
   "metadata": {
    "tags": []
   },
   "outputs": [],
   "source": [
    "df['group'] = df.user_id.apply(lambda x: 'A' if x[-1] == 'A' else 'B') #добавляем столбец группы\n",
    "df['converted'] = df.url.str.contains(r\"/good/\\d+/owner_info|/bulletin/\\d+/ajax_contact\").astype(int) #добавляем столбец взаимодействия с контактом"
   ]
  },
  {
   "cell_type": "code",
   "execution_count": 17,
   "id": "5fe99f1c-8de4-4df3-93cd-1c4c79bcdb7f",
   "metadata": {
    "tags": []
   },
   "outputs": [],
   "source": [
    "filtered_df = df[(df.url.str.contains(r\"/city/directory/\\d+\\.html\")) | (df['converted'] == 1)]"
   ]
  },
  {
   "cell_type": "code",
   "execution_count": 18,
   "id": "e475323e-aec0-4422-9a34-7e26e44c7f6d",
   "metadata": {
    "tags": []
   },
   "outputs": [],
   "source": [
    "aa_df = filtered_df.query(\"date < '2017-11-10'\")"
   ]
  },
  {
   "cell_type": "code",
   "execution_count": 19,
   "id": "f204d5ac-253f-4c3a-8d4e-c5ce167a138a",
   "metadata": {
    "tags": []
   },
   "outputs": [],
   "source": [
    "control_sample = aa_df[aa_df.group == 'A']\n",
    "treatment_sample = aa_df[aa_df.group == 'B']"
   ]
  },
  {
   "cell_type": "code",
   "execution_count": 20,
   "id": "9c8a8820-6429-4adf-bf76-952ce1782c85",
   "metadata": {
    "tags": []
   },
   "outputs": [],
   "source": [
    "aa_test = pd.concat([control_sample, treatment_sample], axis=0)\n",
    "aa_test.reset_index(drop=True, inplace = True)"
   ]
  },
  {
   "cell_type": "code",
   "execution_count": 21,
   "id": "62537e8c-53be-49ad-9a8c-c07b50e43595",
   "metadata": {
    "tags": []
   },
   "outputs": [],
   "source": [
    "def std_dev(x):\n",
    "    return np.std(x, ddof=0)\n",
    "def std_error(x):\n",
    "    return stats.sem(x, ddof=0)"
   ]
  },
  {
   "cell_type": "code",
   "execution_count": 22,
   "id": "6e443630-d06c-4f1f-9d37-412937f44317",
   "metadata": {
    "tags": []
   },
   "outputs": [
    {
     "data": {
      "text/html": [
       "<div>\n",
       "<style scoped>\n",
       "    .dataframe tbody tr th:only-of-type {\n",
       "        vertical-align: middle;\n",
       "    }\n",
       "\n",
       "    .dataframe tbody tr th {\n",
       "        vertical-align: top;\n",
       "    }\n",
       "\n",
       "    .dataframe thead th {\n",
       "        text-align: right;\n",
       "    }\n",
       "</style>\n",
       "<table border=\"1\" class=\"dataframe\">\n",
       "  <thead>\n",
       "    <tr style=\"text-align: right;\">\n",
       "      <th></th>\n",
       "      <th>conversion_rate</th>\n",
       "      <th>std_deviation</th>\n",
       "      <th>std_error</th>\n",
       "    </tr>\n",
       "    <tr>\n",
       "      <th>group</th>\n",
       "      <th></th>\n",
       "      <th></th>\n",
       "      <th></th>\n",
       "    </tr>\n",
       "  </thead>\n",
       "  <tbody>\n",
       "    <tr>\n",
       "      <th>A</th>\n",
       "      <td>0.038970</td>\n",
       "      <td>0.193524</td>\n",
       "      <td>0.000739</td>\n",
       "    </tr>\n",
       "    <tr>\n",
       "      <th>B</th>\n",
       "      <td>0.042948</td>\n",
       "      <td>0.202740</td>\n",
       "      <td>0.000832</td>\n",
       "    </tr>\n",
       "  </tbody>\n",
       "</table>\n",
       "</div>"
      ],
      "text/plain": [
       "       conversion_rate  std_deviation  std_error\n",
       "group                                           \n",
       "A             0.038970       0.193524   0.000739\n",
       "B             0.042948       0.202740   0.000832"
      ]
     },
     "execution_count": 22,
     "metadata": {},
     "output_type": "execute_result"
    }
   ],
   "source": [
    "conversion_rate = aa_test.groupby('group').converted.agg(['mean', std_dev, std_error])\n",
    "conversion_rate.columns = ['conversion_rate','std_deviation','std_error']\n",
    "conversion_rate"
   ]
  },
  {
   "cell_type": "code",
   "execution_count": 23,
   "id": "5974bbdb-a1fe-419b-94a0-768cdb492019",
   "metadata": {
    "tags": []
   },
   "outputs": [],
   "source": [
    "control_results = aa_test[aa_test.group == 'A'].converted\n",
    "num_control = control_results.count()\n",
    "\n",
    "treatment_results = aa_test[aa_test.group == 'B' ].converted\n",
    "num_treatment = treatment_results.count()\n",
    "\n",
    "successes = [control_results.sum(), treatment_results.sum()]\n",
    "nobs = [num_control, num_treatment]"
   ]
  },
  {
   "cell_type": "code",
   "execution_count": 24,
   "id": "18c62c38-9317-4d1e-a4b5-1652bffde48f",
   "metadata": {
    "tags": []
   },
   "outputs": [],
   "source": [
    "z_stat, pval = proportions_ztest(successes, nobs = nobs)\n",
    "(lower_con, lower_treat), (upper_con, upper_treat) = proportion_confint(successes, nobs=nobs)"
   ]
  },
  {
   "cell_type": "code",
   "execution_count": 25,
   "id": "e7bbf94f-6ec3-4c4a-8b91-ea10e080315c",
   "metadata": {
    "tags": []
   },
   "outputs": [
    {
     "name": "stdout",
     "output_type": "stream",
     "text": [
      "Z-статистика: -3.6\n",
      "P-value: 0.000335\n",
      "Доверительный интервал для доверительной вероятности 95% в группе A [0.0375,0.0404]\n",
      "Доверительный интервал для доверительной вероятности 95% в группе B [0.0413,0.0446]\n"
     ]
    }
   ],
   "source": [
    "print(f'Z-статистика: {z_stat:.2}')\n",
    "print(f'P-value: {pval:.3}')\n",
    "print(f'Доверительный интервал для доверительной вероятности 95% в группе A [{lower_con:.3},{upper_con:.3}]')\n",
    "print(f'Доверительный интервал для доверительной вероятности 95% в группе B [{lower_treat:.3},{upper_treat:.3}]')"
   ]
  },
  {
   "cell_type": "markdown",
   "id": "286130fb-2d59-465e-a467-7c80011ceb22",
   "metadata": {},
   "source": [
    "Значение p-value значительно меньше уровня статистической значимости 5% (0.05), что говорит о статистически значимой разнице между группами A и B, даже при условии, что это A/A тест.\n",
    "\n",
    "Обычно в A/A тестировании разницы не ожидается, так как обе группы должны демонстрировать одинаковые показатели. Здесь же мы видим статистически значимую разницу, что может указывать на проблему с экспериментальным дизайном, например, систематические ошибки, нарушение случайного распределения, ошибки в данных или непредвиденные факторы, влияющие на результат."
   ]
  },
  {
   "cell_type": "markdown",
   "id": "bd417271-c799-49ad-8017-d2176d86220c",
   "metadata": {},
   "source": [
    "Проведем А/B тестирование"
   ]
  },
  {
   "cell_type": "markdown",
   "id": "cb501d18-1ad0-4013-a129-1afd39405de0",
   "metadata": {},
   "source": [
    "Ограничим датасет для отображения данных с 10 ноября по 1 декабря включительно"
   ]
  },
  {
   "cell_type": "code",
   "execution_count": 29,
   "id": "7fcef65d-d061-4880-8cab-0230b30530b6",
   "metadata": {
    "tags": []
   },
   "outputs": [],
   "source": [
    "ab_df = filtered_df.query(\"'2017-11-10' <= date < '2017-12-02'\")"
   ]
  },
  {
   "cell_type": "code",
   "execution_count": 30,
   "id": "15de7b2b-2932-46fe-b2f6-5231f72465f7",
   "metadata": {
    "tags": []
   },
   "outputs": [
    {
     "data": {
      "text/html": [
       "<div>\n",
       "<style scoped>\n",
       "    .dataframe tbody tr th:only-of-type {\n",
       "        vertical-align: middle;\n",
       "    }\n",
       "\n",
       "    .dataframe tbody tr th {\n",
       "        vertical-align: top;\n",
       "    }\n",
       "\n",
       "    .dataframe thead th {\n",
       "        text-align: right;\n",
       "    }\n",
       "</style>\n",
       "<table border=\"1\" class=\"dataframe\">\n",
       "  <thead>\n",
       "    <tr style=\"text-align: right;\">\n",
       "      <th></th>\n",
       "      <th>user_id</th>\n",
       "      <th>date</th>\n",
       "      <th>url</th>\n",
       "      <th>group</th>\n",
       "      <th>converted</th>\n",
       "    </tr>\n",
       "  </thead>\n",
       "  <tbody>\n",
       "    <tr>\n",
       "      <th>1206146</th>\n",
       "      <td>c4722e52A</td>\n",
       "      <td>2017-11-10 00:00:02</td>\n",
       "      <td>/city/directory/54442679.html</td>\n",
       "      <td>A</td>\n",
       "      <td>0</td>\n",
       "    </tr>\n",
       "    <tr>\n",
       "      <th>1206147</th>\n",
       "      <td>d889038dA</td>\n",
       "      <td>2017-11-10 00:00:03</td>\n",
       "      <td>/city/directory/46307421.html</td>\n",
       "      <td>A</td>\n",
       "      <td>0</td>\n",
       "    </tr>\n",
       "    <tr>\n",
       "      <th>1206163</th>\n",
       "      <td>f0fd895cB</td>\n",
       "      <td>2017-11-10 00:00:26</td>\n",
       "      <td>/city/directory/57179476.html</td>\n",
       "      <td>B</td>\n",
       "      <td>0</td>\n",
       "    </tr>\n",
       "    <tr>\n",
       "      <th>1206169</th>\n",
       "      <td>d555480A</td>\n",
       "      <td>2017-11-10 00:00:29</td>\n",
       "      <td>/city/directory/57131892.html</td>\n",
       "      <td>A</td>\n",
       "      <td>0</td>\n",
       "    </tr>\n",
       "    <tr>\n",
       "      <th>1206178</th>\n",
       "      <td>fbbdabb6A</td>\n",
       "      <td>2017-11-10 00:00:46</td>\n",
       "      <td>/city/directory/52350033.html</td>\n",
       "      <td>A</td>\n",
       "      <td>0</td>\n",
       "    </tr>\n",
       "    <tr>\n",
       "      <th>...</th>\n",
       "      <td>...</td>\n",
       "      <td>...</td>\n",
       "      <td>...</td>\n",
       "      <td>...</td>\n",
       "      <td>...</td>\n",
       "    </tr>\n",
       "    <tr>\n",
       "      <th>4161537</th>\n",
       "      <td>1be0d3fbA</td>\n",
       "      <td>2017-12-01 23:59:48</td>\n",
       "      <td>/city/directory/58498802.html</td>\n",
       "      <td>A</td>\n",
       "      <td>0</td>\n",
       "    </tr>\n",
       "    <tr>\n",
       "      <th>4161543</th>\n",
       "      <td>3096b098B</td>\n",
       "      <td>2017-12-01 23:59:50</td>\n",
       "      <td>/city/directory/55928827.html</td>\n",
       "      <td>B</td>\n",
       "      <td>0</td>\n",
       "    </tr>\n",
       "    <tr>\n",
       "      <th>4161553</th>\n",
       "      <td>c38dd6cbB</td>\n",
       "      <td>2017-12-01 23:59:53</td>\n",
       "      <td>/city/directory/51768927.html</td>\n",
       "      <td>B</td>\n",
       "      <td>0</td>\n",
       "    </tr>\n",
       "    <tr>\n",
       "      <th>4161558</th>\n",
       "      <td>3540df26A</td>\n",
       "      <td>2017-12-01 23:59:53</td>\n",
       "      <td>/city/directory/42798560.html</td>\n",
       "      <td>A</td>\n",
       "      <td>0</td>\n",
       "    </tr>\n",
       "    <tr>\n",
       "      <th>4161571</th>\n",
       "      <td>3096b098B</td>\n",
       "      <td>2017-12-01 23:59:59</td>\n",
       "      <td>/city/directory/55928827.html</td>\n",
       "      <td>B</td>\n",
       "      <td>0</td>\n",
       "    </tr>\n",
       "  </tbody>\n",
       "</table>\n",
       "<p>320720 rows × 5 columns</p>\n",
       "</div>"
      ],
      "text/plain": [
       "           user_id                 date                            url group  \\\n",
       "1206146  c4722e52A  2017-11-10 00:00:02  /city/directory/54442679.html     A   \n",
       "1206147  d889038dA  2017-11-10 00:00:03  /city/directory/46307421.html     A   \n",
       "1206163  f0fd895cB  2017-11-10 00:00:26  /city/directory/57179476.html     B   \n",
       "1206169   d555480A  2017-11-10 00:00:29  /city/directory/57131892.html     A   \n",
       "1206178  fbbdabb6A  2017-11-10 00:00:46  /city/directory/52350033.html     A   \n",
       "...            ...                  ...                            ...   ...   \n",
       "4161537  1be0d3fbA  2017-12-01 23:59:48  /city/directory/58498802.html     A   \n",
       "4161543  3096b098B  2017-12-01 23:59:50  /city/directory/55928827.html     B   \n",
       "4161553  c38dd6cbB  2017-12-01 23:59:53  /city/directory/51768927.html     B   \n",
       "4161558  3540df26A  2017-12-01 23:59:53  /city/directory/42798560.html     A   \n",
       "4161571  3096b098B  2017-12-01 23:59:59  /city/directory/55928827.html     B   \n",
       "\n",
       "         converted  \n",
       "1206146          0  \n",
       "1206147          0  \n",
       "1206163          0  \n",
       "1206169          0  \n",
       "1206178          0  \n",
       "...            ...  \n",
       "4161537          0  \n",
       "4161543          0  \n",
       "4161553          0  \n",
       "4161558          0  \n",
       "4161571          0  \n",
       "\n",
       "[320720 rows x 5 columns]"
      ]
     },
     "execution_count": 30,
     "metadata": {},
     "output_type": "execute_result"
    }
   ],
   "source": [
    "ab_df"
   ]
  },
  {
   "cell_type": "code",
   "execution_count": 31,
   "id": "3f43e0c1-595b-4b37-95e4-f137479f1feb",
   "metadata": {
    "tags": []
   },
   "outputs": [],
   "source": [
    "control_sample = ab_df[ab_df.group == 'A']\n",
    "treatment_sample = ab_df[ab_df.group == 'B']"
   ]
  },
  {
   "cell_type": "code",
   "execution_count": 32,
   "id": "1fb7bcc5-70ea-436a-9430-2c9749edff0e",
   "metadata": {
    "tags": []
   },
   "outputs": [],
   "source": [
    "ab_test = pd.concat([control_sample, treatment_sample], axis=0)\n",
    "ab_test.reset_index(drop=True, inplace = True)"
   ]
  },
  {
   "cell_type": "code",
   "execution_count": 33,
   "id": "5e521687-663e-4ab4-8b65-6bc336f04b95",
   "metadata": {
    "tags": []
   },
   "outputs": [
    {
     "data": {
      "text/html": [
       "<div>\n",
       "<style scoped>\n",
       "    .dataframe tbody tr th:only-of-type {\n",
       "        vertical-align: middle;\n",
       "    }\n",
       "\n",
       "    .dataframe tbody tr th {\n",
       "        vertical-align: top;\n",
       "    }\n",
       "\n",
       "    .dataframe thead th {\n",
       "        text-align: right;\n",
       "    }\n",
       "</style>\n",
       "<table border=\"1\" class=\"dataframe\">\n",
       "  <thead>\n",
       "    <tr style=\"text-align: right;\">\n",
       "      <th></th>\n",
       "      <th>conversion_rate</th>\n",
       "      <th>std_deviation</th>\n",
       "      <th>std_error</th>\n",
       "    </tr>\n",
       "    <tr>\n",
       "      <th>group</th>\n",
       "      <th></th>\n",
       "      <th></th>\n",
       "      <th></th>\n",
       "    </tr>\n",
       "  </thead>\n",
       "  <tbody>\n",
       "    <tr>\n",
       "      <th>A</th>\n",
       "      <td>0.042797</td>\n",
       "      <td>0.202400</td>\n",
       "      <td>0.000489</td>\n",
       "    </tr>\n",
       "    <tr>\n",
       "      <th>B</th>\n",
       "      <td>0.044526</td>\n",
       "      <td>0.206262</td>\n",
       "      <td>0.000534</td>\n",
       "    </tr>\n",
       "  </tbody>\n",
       "</table>\n",
       "</div>"
      ],
      "text/plain": [
       "       conversion_rate  std_deviation  std_error\n",
       "group                                           \n",
       "A             0.042797       0.202400   0.000489\n",
       "B             0.044526       0.206262   0.000534"
      ]
     },
     "execution_count": 33,
     "metadata": {},
     "output_type": "execute_result"
    }
   ],
   "source": [
    "conversion_rate = ab_test.groupby('group').converted.agg(['mean', std_dev, std_error])\n",
    "conversion_rate.columns =['conversion_rate','std_deviation','std_error']\n",
    "conversion_rate"
   ]
  },
  {
   "cell_type": "code",
   "execution_count": 34,
   "id": "8179ea4e-8e1b-474d-a690-216c03a96773",
   "metadata": {
    "tags": []
   },
   "outputs": [],
   "source": [
    "control_results = ab_test[ab_test.group =='A'].converted\n",
    "num_control = control_results.count()\n",
    "\n",
    "treatment_results = ab_test[ab_test.group =='B'].converted\n",
    "num_treatment = treatment_results.count()\n",
    "\n",
    "successes = [control_results.sum(), treatment_results.sum()]\n",
    "nobs = [num_control, num_treatment]"
   ]
  },
  {
   "cell_type": "code",
   "execution_count": 36,
   "id": "19a8b1a6-1d6f-4158-b1b3-fdbe057e5838",
   "metadata": {
    "tags": []
   },
   "outputs": [],
   "source": [
    "z_stat, pval = proportions_ztest(successes, nobs = nobs)\n",
    "(lower_con, lower_treat), (upper_con, upper_treat) = proportion_confint(successes, nobs=nobs)"
   ]
  },
  {
   "cell_type": "code",
   "execution_count": 37,
   "id": "65ada779-c922-47de-a5bf-93a8c35abcbb",
   "metadata": {
    "tags": []
   },
   "outputs": [
    {
     "name": "stdout",
     "output_type": "stream",
     "text": [
      "Z-статистика: -2.4\n",
      "P-value: 0.0168\n",
      "Доверительный интервал для доверительной вероятности 95% в группе A [0.0418,0.0438]\n",
      "Доверительный интервал для доверительной вероятности 95% в группе B [0.0435,0.0456]\n"
     ]
    }
   ],
   "source": [
    "print(f'Z-статистика: {z_stat:.2}')\n",
    "print(f'P-value: {pval:.3}')\n",
    "print(f'Доверительный интервал для доверительной вероятности 95% в группе A [{lower_con:.3},{upper_con:.3}]')\n",
    "print(f'Доверительный интервал для доверительной вероятности 95% в группе B [{lower_treat:.3},{upper_treat:.3}]')"
   ]
  },
  {
   "cell_type": "markdown",
   "id": "d0aaf1d5-3c44-48fe-a38b-a3af9e94d9e4",
   "metadata": {},
   "source": [
    "Значение p-value составляет 0.0168, что также меньше 0.05, указывая на статистически значимую разницу между группой A и группой B.\n",
    "\n",
    "Доверительные интервалы частично перекрываются, что указывает на то, что разница между конверсиями групп менее однозначна. Это создает сомнения в статистической значимости результата, поскольку пересечение доверительных интервалов может означать, что наблюдаемая разница обусловлена случайными колебаниями."
   ]
  }
 ],
 "metadata": {
  "kernelspec": {
   "display_name": "Python 3 (ipykernel)",
   "language": "python",
   "name": "python3"
  },
  "language_info": {
   "codemirror_mode": {
    "name": "ipython",
    "version": 3
   },
   "file_extension": ".py",
   "mimetype": "text/x-python",
   "name": "python",
   "nbconvert_exporter": "python",
   "pygments_lexer": "ipython3",
   "version": "3.11.7"
  }
 },
 "nbformat": 4,
 "nbformat_minor": 5
}
